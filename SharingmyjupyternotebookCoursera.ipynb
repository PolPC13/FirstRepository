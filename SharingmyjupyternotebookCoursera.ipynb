{
 "cells": [
  {
   "cell_type": "markdown",
   "id": "eda04347",
   "metadata": {},
   "source": [
    "# Data Science Tools and Ecosystem"
   ]
  },
  {
   "cell_type": "markdown",
   "id": "0debcc5f",
   "metadata": {},
   "source": [
    "### En este apartado se detallan los lenguajes que forman el ecosistema de la ciencia de datos."
   ]
  },
  {
   "cell_type": "markdown",
   "id": "7fbb0b0c",
   "metadata": {},
   "source": [
    "1. Python\n",
    "2. R\n",
    "3. C++\n",
    "4. Julia\n",
    "5. SQL"
   ]
  },
  {
   "cell_type": "markdown",
   "id": "27395ead",
   "metadata": {},
   "source": [
    "### In this notebook, Data Science Tools and Ecosystem are summarized."
   ]
  },
  {
   "cell_type": "markdown",
   "id": "26f9dad7",
   "metadata": {},
   "source": [
    "## **objectives**"
   ]
  },
  {
   "cell_type": "markdown",
   "id": "98bffc0b",
   "metadata": {},
   "source": [
    "- List popular languages for Data Science\n",
    "- List popular libraries\n",
    "- Basic arythmetic expressions in Python\n"
   ]
  },
  {
   "cell_type": "markdown",
   "id": "1d5cd79e",
   "metadata": {},
   "source": [
    "### A continuación, las librerías más destacadas:"
   ]
  },
  {
   "cell_type": "markdown",
   "id": "e1c8f648",
   "metadata": {},
   "source": [
    "1. TensorFlow\n",
    "2. ggplot\n",
    "3. Pandas"
   ]
  },
  {
   "cell_type": "markdown",
   "id": "f4ef0bcf",
   "metadata": {},
   "source": [
    "| Data Science Tools |\n",
    "| ------------------ |\n",
    "| Watson Studio|\n",
    "| Spyder|\n",
    "| Jupyter Notebook|"
   ]
  },
  {
   "cell_type": "markdown",
   "id": "ff8235e3",
   "metadata": {},
   "source": [
    "### Below are a few examples of evaluating arithmetic expressions in Python\n"
   ]
  },
  {
   "cell_type": "code",
   "execution_count": 2,
   "id": "b99cfc20",
   "metadata": {},
   "outputs": [
    {
     "name": "stdout",
     "output_type": "stream",
     "text": [
      "20\n"
     ]
    }
   ],
   "source": [
    "# using parentheses:\n",
    "\n",
    "result = (2+3)*4\n",
    "print(result)"
   ]
  },
  {
   "cell_type": "code",
   "execution_count": 3,
   "id": "994a57f6",
   "metadata": {},
   "outputs": [
    {
     "name": "stdout",
     "output_type": "stream",
     "text": [
      "14\n"
     ]
    }
   ],
   "source": [
    "# basic arithmetic:\n",
    "result = 2+3*4\n",
    "print (result)"
   ]
  },
  {
   "cell_type": "code",
   "execution_count": 4,
   "id": "f73dadbf",
   "metadata": {},
   "outputs": [
    {
     "name": "stdout",
     "output_type": "stream",
     "text": [
      "8\n"
     ]
    }
   ],
   "source": [
    "# Exponentiation\n",
    "result = 2**3\n",
    "print (result)"
   ]
  },
  {
   "cell_type": "markdown",
   "id": "f941bbe7",
   "metadata": {},
   "source": [
    "### This a simple arithmetic expression to mutiply then add integers"
   ]
  },
  {
   "cell_type": "code",
   "execution_count": 5,
   "id": "937ae29e",
   "metadata": {},
   "outputs": [
    {
     "name": "stdout",
     "output_type": "stream",
     "text": [
      "17\n"
     ]
    }
   ],
   "source": [
    "result = (3*4)+5\n",
    "print(result)"
   ]
  },
  {
   "cell_type": "markdown",
   "id": "8a70f47c",
   "metadata": {},
   "source": [
    "### This will convert 200 minutes to hours by diving by 60"
   ]
  },
  {
   "cell_type": "code",
   "execution_count": 9,
   "id": "e7a04e1e",
   "metadata": {},
   "outputs": [
    {
     "name": "stdout",
     "output_type": "stream",
     "text": [
      "3.3333333333333335\n"
     ]
    }
   ],
   "source": [
    "result = 200/60\n",
    "print(result)"
   ]
  },
  {
   "cell_type": "markdown",
   "id": "2db55001",
   "metadata": {},
   "source": [
    "## Author\n",
    "Pol pedrajas\n"
   ]
  },
  {
   "cell_type": "code",
   "execution_count": null,
   "id": "17e2ddfa",
   "metadata": {},
   "outputs": [],
   "source": []
  }
 ],
 "metadata": {
  "kernelspec": {
   "display_name": "Python 3 (ipykernel)",
   "language": "python",
   "name": "python3"
  },
  "language_info": {
   "codemirror_mode": {
    "name": "ipython",
    "version": 3
   },
   "file_extension": ".py",
   "mimetype": "text/x-python",
   "name": "python",
   "nbconvert_exporter": "python",
   "pygments_lexer": "ipython3",
   "version": "3.11.3"
  }
 },
 "nbformat": 4,
 "nbformat_minor": 5
}
